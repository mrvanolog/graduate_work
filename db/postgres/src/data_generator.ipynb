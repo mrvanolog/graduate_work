{
 "metadata": {
  "language_info": {
   "codemirror_mode": {
    "name": "ipython",
    "version": 3
   },
   "file_extension": ".py",
   "mimetype": "text/x-python",
   "name": "python",
   "nbconvert_exporter": "python",
   "pygments_lexer": "ipython3",
   "version": "3.8.8"
  },
  "orig_nbformat": 2,
  "kernelspec": {
   "name": "python388jvsc74a57bd0d3a676a176e83dec0804f6c20996629c4b479d447981ed09cdea4cd9f2703bd6",
   "display_name": "Python 3.8.3 64-bit ('base': conda)"
  }
 },
 "nbformat": 4,
 "nbformat_minor": 2,
 "cells": [
  {
   "cell_type": "code",
   "execution_count": 8,
   "metadata": {},
   "outputs": [],
   "source": [
    "from datetime import datetime\n",
    "from pathlib import Path\n",
    "from random import randint, choices\n",
    "from string import ascii_letters, digits\n",
    "from uuid import UUID, uuid4\n",
    "\n",
    "import pandas as pd"
   ]
  },
  {
   "source": [
    "## Генерируем данные для таблицы `users`"
   ],
   "cell_type": "markdown",
   "metadata": {}
  },
  {
   "cell_type": "code",
   "execution_count": 11,
   "metadata": {},
   "outputs": [],
   "source": [
    "users: list = []\n",
    "\n",
    "for i in range(600):\n",
    "    id_: UUID = uuid4() \n",
    "    login: str = ''.join(choices(ascii_letters, k=randint(5, 10)))\n",
    "    password: str = ''.join(choices(ascii_letters + digits, k=randint(8, 14)))\n",
    "    creation_date: datetime = datetime.now()\n",
    "\n",
    "    row = f'{id_}\\t{login}\\t{password}\\t{creation_date}\\n'\n",
    "    users.append(row)\n"
   ]
  },
  {
   "cell_type": "code",
   "execution_count": 12,
   "metadata": {},
   "outputs": [
    {
     "output_type": "stream",
     "name": "stdout",
     "text": [
      "52496b51-650b-407d-801b-9c7e45fd295f\tGJpyAAhWM\tBWqXgF0jx\t2021-06-05 19:40:51.819722\n\n"
     ]
    }
   ],
   "source": [
    "print(users[0])"
   ]
  },
  {
   "cell_type": "code",
   "execution_count": 13,
   "metadata": {},
   "outputs": [],
   "source": [
    "data_path_users = Path('data/users.txt')\n",
    "\n",
    "with data_path_users.open('w') as f:\n",
    "    for user in users:\n",
    "        f.write(user)"
   ]
  },
  {
   "source": [
    "## Генерируем данны для таблицы `ratings`"
   ],
   "cell_type": "markdown",
   "metadata": {}
  },
  {
   "source": [
    "Загружаем данные из таблиц `users` и `film_work`"
   ],
   "cell_type": "markdown",
   "metadata": {}
  },
  {
   "cell_type": "code",
   "execution_count": 14,
   "metadata": {},
   "outputs": [],
   "source": [
    "df_users = pd.read_csv(data_path_users, sep='\\t', header=None)\n",
    "df_users.columns = ['id', 'login', 'password', 'creation_date']"
   ]
  },
  {
   "cell_type": "code",
   "execution_count": 15,
   "metadata": {},
   "outputs": [
    {
     "output_type": "execute_result",
     "data": {
      "text/plain": [
       "                                     id       login        password  \\\n",
       "0  52496b51-650b-407d-801b-9c7e45fd295f   GJpyAAhWM       BWqXgF0jx   \n",
       "1  5990866a-b039-4fc2-ab59-fc49190121e0  rLuwJVlULo   X0pplxgor3SRo   \n",
       "2  f9b1ea23-d715-45d3-86a0-fd130b36a229      ogqFaW       nYjRmHePg   \n",
       "3  184b3e79-125c-4e9a-ac25-b6687b219e1f   ULqauupHx  Rxx1spI3GiVzXq   \n",
       "4  fd61f9e0-9612-4ccd-ad2c-cc507f603cc9     SbjpjaM   o6sMkErPlyK8g   \n",
       "\n",
       "                creation_date  \n",
       "0  2021-06-05 19:40:51.819722  \n",
       "1  2021-06-05 19:40:51.819854  \n",
       "2  2021-06-05 19:40:51.820117  \n",
       "3  2021-06-05 19:40:51.820299  \n",
       "4  2021-06-05 19:40:51.820348  "
      ],
      "text/html": "<div>\n<style scoped>\n    .dataframe tbody tr th:only-of-type {\n        vertical-align: middle;\n    }\n\n    .dataframe tbody tr th {\n        vertical-align: top;\n    }\n\n    .dataframe thead th {\n        text-align: right;\n    }\n</style>\n<table border=\"1\" class=\"dataframe\">\n  <thead>\n    <tr style=\"text-align: right;\">\n      <th></th>\n      <th>id</th>\n      <th>login</th>\n      <th>password</th>\n      <th>creation_date</th>\n    </tr>\n  </thead>\n  <tbody>\n    <tr>\n      <th>0</th>\n      <td>52496b51-650b-407d-801b-9c7e45fd295f</td>\n      <td>GJpyAAhWM</td>\n      <td>BWqXgF0jx</td>\n      <td>2021-06-05 19:40:51.819722</td>\n    </tr>\n    <tr>\n      <th>1</th>\n      <td>5990866a-b039-4fc2-ab59-fc49190121e0</td>\n      <td>rLuwJVlULo</td>\n      <td>X0pplxgor3SRo</td>\n      <td>2021-06-05 19:40:51.819854</td>\n    </tr>\n    <tr>\n      <th>2</th>\n      <td>f9b1ea23-d715-45d3-86a0-fd130b36a229</td>\n      <td>ogqFaW</td>\n      <td>nYjRmHePg</td>\n      <td>2021-06-05 19:40:51.820117</td>\n    </tr>\n    <tr>\n      <th>3</th>\n      <td>184b3e79-125c-4e9a-ac25-b6687b219e1f</td>\n      <td>ULqauupHx</td>\n      <td>Rxx1spI3GiVzXq</td>\n      <td>2021-06-05 19:40:51.820299</td>\n    </tr>\n    <tr>\n      <th>4</th>\n      <td>fd61f9e0-9612-4ccd-ad2c-cc507f603cc9</td>\n      <td>SbjpjaM</td>\n      <td>o6sMkErPlyK8g</td>\n      <td>2021-06-05 19:40:51.820348</td>\n    </tr>\n  </tbody>\n</table>\n</div>"
     },
     "metadata": {},
     "execution_count": 15
    }
   ],
   "source": [
    "df_users.head()"
   ]
  },
  {
   "cell_type": "code",
   "execution_count": 16,
   "metadata": {},
   "outputs": [],
   "source": [
    "df_movies = pd.read_csv('data/film_work.txt', sep='\\t', header=None)\n",
    "df_movies.columns = ['id', 'title', 'description', 'creation_date', 'certificate', 'file_path', 'rating', 'type', 'created_at', 'updated_at']"
   ]
  },
  {
   "cell_type": "code",
   "execution_count": 17,
   "metadata": {},
   "outputs": [
    {
     "output_type": "execute_result",
     "data": {
      "text/plain": [
       "                                     id  \\\n",
       "0  707eed57-5834-4be8-9a5c-800d3daa227c   \n",
       "1  949c3cfe-021a-4731-846b-5b9dca5e102d   \n",
       "2  8c121fdb-216b-4f8f-bae7-ce77c4fd6803   \n",
       "3  2c46ee03-adae-4e9e-98b0-5dfdf621510a   \n",
       "4  ba93e0c3-54b1-4107-8563-52ef07e92125   \n",
       "\n",
       "                                            title  \\\n",
       "0              Star Wars: Episode IV - A New Hope   \n",
       "1  Star Wars: Episode V - The Empire Strikes Back   \n",
       "2      Star Wars: Episode VI - Return of the Jedi   \n",
       "3      Star Wars: Episode VII - The Force Awakens   \n",
       "4       Star Wars: Episode I - The Phantom Menace   \n",
       "\n",
       "                                         description creation_date  \\\n",
       "0  The Imperial Forces, under orders from cruel D...    2020-12-05   \n",
       "1  Luke Skywalker, Han Solo, Princess Leia and Ch...    2020-12-05   \n",
       "2  Luke Skywalker battles horrible Jabba the Hut ...    2020-12-05   \n",
       "3  30 years after the defeat of Darth Vader and t...    2020-12-05   \n",
       "4  The evil Trade Federation, led by Nute Gunray ...    2020-12-05   \n",
       "\n",
       "  certificate file_path  rating   type                     created_at  \\\n",
       "0          \\N        \\N     8.6  movie  2020-12-05 00:50:05.164789+03   \n",
       "1          \\N        \\N     8.7  movie  2020-12-05 00:50:05.165193+03   \n",
       "2          \\N        \\N     8.3  movie  2020-12-05 00:50:05.165552+03   \n",
       "3          \\N        \\N     7.9  movie  2020-12-05 00:50:05.165931+03   \n",
       "4          \\N        \\N     6.5  movie    2020-12-05 00:50:05.1663+03   \n",
       "\n",
       "                      updated_at  \n",
       "0  2020-12-05 00:50:05.164792+03  \n",
       "1  2020-12-05 00:50:05.165194+03  \n",
       "2  2020-12-05 00:50:05.165553+03  \n",
       "3  2020-12-05 00:50:05.165932+03  \n",
       "4  2020-12-05 00:50:05.166301+03  "
      ],
      "text/html": "<div>\n<style scoped>\n    .dataframe tbody tr th:only-of-type {\n        vertical-align: middle;\n    }\n\n    .dataframe tbody tr th {\n        vertical-align: top;\n    }\n\n    .dataframe thead th {\n        text-align: right;\n    }\n</style>\n<table border=\"1\" class=\"dataframe\">\n  <thead>\n    <tr style=\"text-align: right;\">\n      <th></th>\n      <th>id</th>\n      <th>title</th>\n      <th>description</th>\n      <th>creation_date</th>\n      <th>certificate</th>\n      <th>file_path</th>\n      <th>rating</th>\n      <th>type</th>\n      <th>created_at</th>\n      <th>updated_at</th>\n    </tr>\n  </thead>\n  <tbody>\n    <tr>\n      <th>0</th>\n      <td>707eed57-5834-4be8-9a5c-800d3daa227c</td>\n      <td>Star Wars: Episode IV - A New Hope</td>\n      <td>The Imperial Forces, under orders from cruel D...</td>\n      <td>2020-12-05</td>\n      <td>\\N</td>\n      <td>\\N</td>\n      <td>8.6</td>\n      <td>movie</td>\n      <td>2020-12-05 00:50:05.164789+03</td>\n      <td>2020-12-05 00:50:05.164792+03</td>\n    </tr>\n    <tr>\n      <th>1</th>\n      <td>949c3cfe-021a-4731-846b-5b9dca5e102d</td>\n      <td>Star Wars: Episode V - The Empire Strikes Back</td>\n      <td>Luke Skywalker, Han Solo, Princess Leia and Ch...</td>\n      <td>2020-12-05</td>\n      <td>\\N</td>\n      <td>\\N</td>\n      <td>8.7</td>\n      <td>movie</td>\n      <td>2020-12-05 00:50:05.165193+03</td>\n      <td>2020-12-05 00:50:05.165194+03</td>\n    </tr>\n    <tr>\n      <th>2</th>\n      <td>8c121fdb-216b-4f8f-bae7-ce77c4fd6803</td>\n      <td>Star Wars: Episode VI - Return of the Jedi</td>\n      <td>Luke Skywalker battles horrible Jabba the Hut ...</td>\n      <td>2020-12-05</td>\n      <td>\\N</td>\n      <td>\\N</td>\n      <td>8.3</td>\n      <td>movie</td>\n      <td>2020-12-05 00:50:05.165552+03</td>\n      <td>2020-12-05 00:50:05.165553+03</td>\n    </tr>\n    <tr>\n      <th>3</th>\n      <td>2c46ee03-adae-4e9e-98b0-5dfdf621510a</td>\n      <td>Star Wars: Episode VII - The Force Awakens</td>\n      <td>30 years after the defeat of Darth Vader and t...</td>\n      <td>2020-12-05</td>\n      <td>\\N</td>\n      <td>\\N</td>\n      <td>7.9</td>\n      <td>movie</td>\n      <td>2020-12-05 00:50:05.165931+03</td>\n      <td>2020-12-05 00:50:05.165932+03</td>\n    </tr>\n    <tr>\n      <th>4</th>\n      <td>ba93e0c3-54b1-4107-8563-52ef07e92125</td>\n      <td>Star Wars: Episode I - The Phantom Menace</td>\n      <td>The evil Trade Federation, led by Nute Gunray ...</td>\n      <td>2020-12-05</td>\n      <td>\\N</td>\n      <td>\\N</td>\n      <td>6.5</td>\n      <td>movie</td>\n      <td>2020-12-05 00:50:05.1663+03</td>\n      <td>2020-12-05 00:50:05.166301+03</td>\n    </tr>\n  </tbody>\n</table>\n</div>"
     },
     "metadata": {},
     "execution_count": 17
    }
   ],
   "source": [
    "df_movies.head()"
   ]
  },
  {
   "source": [
    "Генерируем случайные оценки"
   ],
   "cell_type": "markdown",
   "metadata": {}
  },
  {
   "cell_type": "code",
   "execution_count": 18,
   "metadata": {},
   "outputs": [],
   "source": [
    "user_ids = df_users['id'].values\n",
    "movie_ids = df_movies['id'].values"
   ]
  },
  {
   "cell_type": "code",
   "execution_count": 19,
   "metadata": {},
   "outputs": [],
   "source": [
    "ratings: list = []\n",
    "  \n",
    "for user_id in user_ids:\n",
    "    num_ratings = randint(1, 50)  # кол-во оценок от данного пользователя\n",
    "    movie_ids_rated = choices(movie_ids, k=num_ratings)\n",
    "    for movie_id in movie_ids_rated:\n",
    "        rating = randint(1, 10)\n",
    "        created_at = datetime.now()\n",
    "\n",
    "        row = f'{user_id}\\t{movie_id}\\t{rating}\\t{created_at}\\n'\n",
    "        ratings.append(row)"
   ]
  },
  {
   "cell_type": "code",
   "execution_count": 20,
   "metadata": {},
   "outputs": [
    {
     "output_type": "execute_result",
     "data": {
      "text/plain": [
       "15563"
      ]
     },
     "metadata": {},
     "execution_count": 20
    }
   ],
   "source": [
    "len(ratings)"
   ]
  },
  {
   "cell_type": "code",
   "execution_count": 21,
   "metadata": {},
   "outputs": [],
   "source": [
    "data_path_ratings = Path('data/ratings.txt')\n",
    "\n",
    "with data_path_ratings.open('w') as f:\n",
    "    for rating in ratings:\n",
    "        f.write(rating)"
   ]
  },
  {
   "cell_type": "code",
   "execution_count": null,
   "metadata": {},
   "outputs": [],
   "source": []
  }
 ]
}